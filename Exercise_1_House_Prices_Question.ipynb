
In this exercise you'll try to build a neural network that predicts the price of a house according to a simple formula.

So, imagine if house pricing was as easy as a house costs 50k + 50k per bedroom, so that a 1 bedroom house costs 100k, a 2 bedroom house costs 150k etc.

How would you create a neural network that learns this relationship so that it would predict a 7 bedroom house as costing close to 400k etc.

Hint: Your network might work better if you scale the house price down. You don't have to give the answer 400...it might be better to create something that predicts the number 4, and then your answer is in the 'hundreds of thousands' etc.


```python
import tensorflow as tf
import numpy as np
from tensorflow import keras
```


```python
# GRADED FUNCTION: house_model
def house_model(y_new):
    xs = np.array([1,2,3,4,5],dtype=float)
    ys = np.array([1,1.5,2,2.5,3],dtype=float)
    model = tf.keras.Sequential([keras.layers.Dense(units=1,input_shape=[1])])
    model.compile(optimizer='sgd' , loss = 'mean_squared_error')
    model.fit(xs , ys,epochs=100)
    return model.predict(y_new)[0]
```


```python
prediction = house_model([7.0])
print(prediction)
```

    WARNING: Logging before flag parsing goes to stderr.
    W1227 18:43:57.241975 139642062870336 deprecation.py:506] From /usr/local/lib/python3.6/dist-packages/tensorflow/python/ops/init_ops.py:1251: calling VarianceScaling.__init__ (from tensorflow.python.ops.init_ops) with dtype is deprecated and will be removed in a future version.
    Instructions for updating:
    Call initializer instance with the dtype argument instead of passing it to the constructor


    Epoch 1/100
    5/5 [==============================] - 2s 457ms/sample - loss: 33.5658
    Epoch 2/100
    5/5 [==============================] - 0s 332us/sample - loss: 19.5607
    Epoch 3/100
    5/5 [==============================] - 0s 277us/sample - loss: 11.3992
    Epoch 4/100
    5/5 [==============================] - 0s 312us/sample - loss: 6.6431
    Epoch 5/100
    5/5 [==============================] - 0s 13ms/sample - loss: 3.8714
    Epoch 6/100
    5/5 [==============================] - 0s 342us/sample - loss: 2.2563
    Epoch 7/100
    5/5 [==============================] - 0s 337us/sample - loss: 1.3150
    Epoch 8/100
    5/5 [==============================] - 0s 260us/sample - loss: 0.7665
    Epoch 9/100
    5/5 [==============================] - 0s 255us/sample - loss: 0.4469
    Epoch 10/100
    5/5 [==============================] - 0s 267us/sample - loss: 0.2606
    Epoch 11/100
    5/5 [==============================] - 0s 260us/sample - loss: 0.1520
    Epoch 12/100
    5/5 [==============================] - 0s 251us/sample - loss: 0.0888
    Epoch 13/100
    5/5 [==============================] - 0s 231us/sample - loss: 0.0519
    Epoch 14/100
    5/5 [==============================] - 0s 252us/sample - loss: 0.0304
    Epoch 15/100
    5/5 [==============================] - 0s 253us/sample - loss: 0.0179
    Epoch 16/100
    5/5 [==============================] - 0s 255us/sample - loss: 0.0106
    Epoch 17/100
    5/5 [==============================] - 0s 382us/sample - loss: 0.0064
    Epoch 18/100
    5/5 [==============================] - 0s 320us/sample - loss: 0.0039
    Epoch 19/100
    5/5 [==============================] - 0s 2ms/sample - loss: 0.0024
    Epoch 20/100
    5/5 [==============================] - 0s 2ms/sample - loss: 0.0016
    Epoch 21/100
    5/5 [==============================] - 0s 2ms/sample - loss: 0.0011
    Epoch 22/100
    5/5 [==============================] - 0s 1ms/sample - loss: 7.9990e-04
    Epoch 23/100
    5/5 [==============================] - 0s 322us/sample - loss: 6.3069e-04
    Epoch 24/100
    5/5 [==============================] - 0s 263us/sample - loss: 5.3097e-04
    Epoch 25/100
    5/5 [==============================] - 0s 239us/sample - loss: 4.7175e-04
    Epoch 26/100
    5/5 [==============================] - 0s 11ms/sample - loss: 4.3615e-04
    Epoch 27/100
    5/5 [==============================] - 0s 1ms/sample - loss: 4.1432e-04
    Epoch 28/100
    5/5 [==============================] - 0s 405us/sample - loss: 4.0051e-04
    Epoch 29/100
    5/5 [==============================] - 0s 343us/sample - loss: 3.9139e-04
    Epoch 30/100
    5/5 [==============================] - 0s 291us/sample - loss: 3.8501e-04
    Epoch 31/100
    5/5 [==============================] - 0s 284us/sample - loss: 3.8023e-04
    Epoch 32/100
    5/5 [==============================] - 0s 239us/sample - loss: 3.7640e-04
    Epoch 33/100
    5/5 [==============================] - 0s 259us/sample - loss: 3.7312e-04
    Epoch 34/100
    5/5 [==============================] - 0s 237us/sample - loss: 3.7017e-04
    Epoch 35/100
    5/5 [==============================] - 0s 16ms/sample - loss: 3.6742e-04
    Epoch 36/100
    5/5 [==============================] - 0s 2ms/sample - loss: 3.6479e-04
    Epoch 37/100
    5/5 [==============================] - 0s 2ms/sample - loss: 3.6224e-04
    Epoch 38/100
    5/5 [==============================] - 0s 2ms/sample - loss: 3.5975e-04
    Epoch 39/100
    5/5 [==============================] - 0s 2ms/sample - loss: 3.5729e-04
    Epoch 40/100
    5/5 [==============================] - 0s 2ms/sample - loss: 3.5486e-04
    Epoch 41/100
    5/5 [==============================] - 0s 2ms/sample - loss: 3.5246e-04
    Epoch 42/100
    5/5 [==============================] - 0s 2ms/sample - loss: 3.5007e-04
    Epoch 43/100
    5/5 [==============================] - 0s 2ms/sample - loss: 3.4770e-04
    Epoch 44/100
    5/5 [==============================] - 0s 2ms/sample - loss: 3.4535e-04
    Epoch 45/100
    5/5 [==============================] - 0s 1ms/sample - loss: 3.4302e-04
    Epoch 46/100
    5/5 [==============================] - 0s 272us/sample - loss: 3.4071e-04
    Epoch 47/100
    5/5 [==============================] - 0s 259us/sample - loss: 3.3840e-04
    Epoch 48/100
    5/5 [==============================] - 0s 255us/sample - loss: 3.3612e-04
    Epoch 49/100
    5/5 [==============================] - 0s 341us/sample - loss: 3.3385e-04
    Epoch 50/100
    5/5 [==============================] - 0s 338us/sample - loss: 3.3160e-04
    Epoch 51/100
    5/5 [==============================] - 0s 288us/sample - loss: 3.2936e-04
    Epoch 52/100
    5/5 [==============================] - 0s 270us/sample - loss: 3.2714e-04
    Epoch 53/100
    5/5 [==============================] - 0s 247us/sample - loss: 3.2493e-04
    Epoch 54/100
    5/5 [==============================] - 0s 214us/sample - loss: 3.2274e-04
    Epoch 55/100
    5/5 [==============================] - 0s 224us/sample - loss: 3.2055e-04
    Epoch 56/100
    5/5 [==============================] - 0s 272us/sample - loss: 3.1839e-04
    Epoch 57/100
    5/5 [==============================] - 0s 266us/sample - loss: 3.1624e-04
    Epoch 58/100
    5/5 [==============================] - 0s 250us/sample - loss: 3.1411e-04
    Epoch 59/100
    5/5 [==============================] - 0s 269us/sample - loss: 3.1199e-04
    Epoch 60/100
    5/5 [==============================] - 0s 16ms/sample - loss: 3.0988e-04
    Epoch 61/100
    5/5 [==============================] - 0s 363us/sample - loss: 3.0779e-04
    Epoch 62/100
    5/5 [==============================] - 0s 302us/sample - loss: 3.0571e-04
    Epoch 63/100
    5/5 [==============================] - 0s 308us/sample - loss: 3.0365e-04
    Epoch 64/100
    5/5 [==============================] - 0s 299us/sample - loss: 3.0160e-04
    Epoch 65/100
    5/5 [==============================] - 0s 256us/sample - loss: 2.9956e-04
    Epoch 66/100
    5/5 [==============================] - 0s 231us/sample - loss: 2.9754e-04
    Epoch 67/100
    5/5 [==============================] - 0s 258us/sample - loss: 2.9553e-04
    Epoch 68/100
    5/5 [==============================] - 0s 257us/sample - loss: 2.9354e-04
    Epoch 69/100
    5/5 [==============================] - 0s 268us/sample - loss: 2.9155e-04
    Epoch 70/100
    5/5 [==============================] - 0s 229us/sample - loss: 2.8959e-04
    Epoch 71/100
    5/5 [==============================] - 0s 15ms/sample - loss: 2.8763e-04
    Epoch 72/100
    5/5 [==============================] - 0s 249us/sample - loss: 2.8569e-04
    Epoch 73/100
    5/5 [==============================] - 0s 276us/sample - loss: 2.8376e-04
    Epoch 74/100
    5/5 [==============================] - 0s 251us/sample - loss: 2.8185e-04
    Epoch 75/100
    5/5 [==============================] - 0s 239us/sample - loss: 2.7994e-04
    Epoch 76/100
    5/5 [==============================] - 0s 246us/sample - loss: 2.7805e-04
    Epoch 77/100
    5/5 [==============================] - 0s 283us/sample - loss: 2.7618e-04
    Epoch 78/100
    5/5 [==============================] - 0s 268us/sample - loss: 2.7431e-04
    Epoch 79/100
    5/5 [==============================] - 0s 253us/sample - loss: 2.7246e-04
    Epoch 80/100
    5/5 [==============================] - 0s 266us/sample - loss: 2.7062e-04
    Epoch 81/100
    5/5 [==============================] - 0s 233us/sample - loss: 2.6880e-04
    Epoch 82/100
    5/5 [==============================] - 0s 890us/sample - loss: 2.6698e-04
    Epoch 83/100
    5/5 [==============================] - 0s 264us/sample - loss: 2.6518e-04
    Epoch 84/100
    5/5 [==============================] - 0s 233us/sample - loss: 2.6339e-04
    Epoch 85/100
    5/5 [==============================] - 0s 225us/sample - loss: 2.6161e-04
    Epoch 86/100
    5/5 [==============================] - 0s 224us/sample - loss: 2.5984e-04
    Epoch 87/100
    5/5 [==============================] - 0s 230us/sample - loss: 2.5809e-04
    Epoch 88/100
    5/5 [==============================] - 0s 264us/sample - loss: 2.5635e-04
    Epoch 89/100
    5/5 [==============================] - 0s 257us/sample - loss: 2.5462e-04
    Epoch 90/100
    5/5 [==============================] - 0s 255us/sample - loss: 2.5290e-04
    Epoch 91/100
    5/5 [==============================] - 0s 200us/sample - loss: 2.5119e-04
    Epoch 92/100
    5/5 [==============================] - 0s 206us/sample - loss: 2.4950e-04
    Epoch 93/100
    5/5 [==============================] - 0s 216us/sample - loss: 2.4781e-04
    Epoch 94/100
    5/5 [==============================] - 0s 16ms/sample - loss: 2.4614e-04
    Epoch 95/100
    5/5 [==============================] - 0s 264us/sample - loss: 2.4448e-04
    Epoch 96/100
    5/5 [==============================] - 0s 232us/sample - loss: 2.4283e-04
    Epoch 97/100
    5/5 [==============================] - 0s 283us/sample - loss: 2.4119e-04
    Epoch 98/100
    5/5 [==============================] - 0s 226us/sample - loss: 2.3956e-04
    Epoch 99/100
    5/5 [==============================] - 0s 215us/sample - loss: 2.3794e-04
    Epoch 100/100
    5/5 [==============================] - 0s 246us/sample - loss: 2.3634e-04
    [4.033717]



```python
# Now click the 'Submit Assignment' button above.
# Once that is complete, please run the following two cells to save your work and close the notebook
```


```javascript
%%javascript
<!-- Save the notebook -->
IPython.notebook.save_checkpoint();
```


```javascript
%%javascript
IPython.notebook.session.delete();
window.onbeforeunload = null
setTimeout(function() { window.close(); }, 1000);
```
