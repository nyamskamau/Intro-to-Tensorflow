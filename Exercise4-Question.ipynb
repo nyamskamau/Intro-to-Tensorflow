
Below is code with a link to a happy or sad dataset which contains 80 images, 40 happy and 40 sad. 
Create a convolutional neural network that trains to 100% accuracy on these images,  which cancels training upon hitting training accuracy of >.999

Hint -- it will work best with 3 convolutional layers.


```python
import tensorflow as tf
import os
import zipfile
from os import path, getcwd, chdir

# DO NOT CHANGE THE LINE BELOW. If you are developing in a local
# environment, then grab happy-or-sad.zip from the Coursera Jupyter Notebook
# and place it inside a local folder and edit the path to that location
path = f"{getcwd()}/../tmp2/happy-or-sad.zip"

zip_ref = zipfile.ZipFile(path, 'r')
zip_ref.extractall("/tmp/h-or-s")
zip_ref.close()
```


```python
# GRADED FUNCTION: train_happy_sad_model
def train_happy_sad_model():
    # Please write your code only where you are indicated.
    # please do not remove # model fitting inline comments.

    DESIRED_ACCURACY = 0.999

    class myCallback(tf.keras.callbacks.Callback):
         # Your Code
        def on_epoch_end(self, epoch, logs={}):
            if(logs.get('acc')> DESIRED_ACCURACY):
                print("\nReached 99% accuracy so cancelling training!")
                self.model.stop_training = True

    callbacks = myCallback()
    
    # This Code Block should Define and Compile the Model. Please assume the images are 150 X 150 in your implementation.
    model = tf.keras.models.Sequential([
        # Your Code Here
        tf.keras.layers.Conv2D(16,(3,3) ,activation= 'relu' , input_shape=(150,150,3)),
        tf.keras.layers.MaxPooling2D(2,2),
        tf.keras.layers.Conv2D(32, (3,3), activation='relu'),
        tf.keras.layers.MaxPooling2D(2,2),
        tf.keras.layers.Conv2D(64, (3,3), activation='relu'),
        tf.keras.layers.MaxPooling2D(2,2),
        tf.keras.layers.Flatten(),
        tf.keras.layers.Dense(512, activation='relu'),
        tf.keras.layers.Dense(1, activation='sigmoid')
    ])

    from tensorflow.keras.optimizers import RMSprop

    model.compile(# Your Code Here #
                    loss='binary_crossentropy',
                    optimizer=RMSprop(lr=0.001),
                    metrics=['acc'])
        

    # This code block should create an instance of an ImageDataGenerator called train_datagen 
    # And a train_generator by calling train_datagen.flow_from_directory

    from tensorflow.keras.preprocessing.image import ImageDataGenerator

    train_datagen =  ImageDataGenerator(rescale=1/255)# Your Code Here
    

    # Please use a target_size of 150 X 150.
    train_generator = train_datagen.flow_from_directory(
        # Your Code Here
        "/tmp/h-or-s/",  
        target_size=(150, 150), 
        batch_size=10,
        class_mode='binary'
)
    # Expected output: 'Found 80 images belonging to 2 classes'

    # This code block should call model.fit_generator and train for
    # a number of epochs.
    # model fitting
    history = model.fit_generator(
          # Your Code Here
            train_generator,
            steps_per_epoch=8,  
            epochs=15,
            callbacks=[callbacks])
    # model fitting
    return history.history['acc'][-1]
```


```python
# The Expected output: "Reached 99.9% accuracy so cancelling training!""
train_happy_sad_model()
```

    Found 80 images belonging to 2 classes.
    Epoch 1/15
    8/8 [==============================] - 2s 224ms/step - loss: 4.2936 - acc: 0.4500
    Epoch 2/15
    8/8 [==============================] - 0s 48ms/step - loss: 0.7017 - acc: 0.4625
    Epoch 3/15
    8/8 [==============================] - 0s 50ms/step - loss: 0.6064 - acc: 0.7000
    Epoch 4/15
    8/8 [==============================] - 0s 50ms/step - loss: 0.3895 - acc: 0.8000
    Epoch 5/15
    8/8 [==============================] - 0s 49ms/step - loss: 0.3380 - acc: 0.8000
    Epoch 6/15
    8/8 [==============================] - 0s 48ms/step - loss: 0.1834 - acc: 0.9375
    Epoch 7/15
    8/8 [==============================] - 0s 39ms/step - loss: 0.1213 - acc: 0.9500
    Epoch 8/15
    8/8 [==============================] - 0s 39ms/step - loss: 0.2423 - acc: 0.8750
    Epoch 9/15
    8/8 [==============================] - 0s 39ms/step - loss: 0.0688 - acc: 0.9750
    Epoch 10/15
    8/8 [==============================] - 0s 39ms/step - loss: 0.1213 - acc: 0.9375
    Epoch 11/15
    7/8 [=========================>....] - ETA: 0s - loss: 0.0427 - acc: 1.0000
    Reached 99% accuracy so cancelling training!
    8/8 [==============================] - 0s 48ms/step - loss: 0.0411 - acc: 1.0000





    1.0




```python
# Now click the 'Submit Assignment' button above.
# Once that is complete, please run the following two cells to save your work and close the notebook
```


```javascript
%%javascript
<!-- Save the notebook -->
IPython.notebook.save_checkpoint();
```


    <IPython.core.display.Javascript object>



```javascript
%%javascript
IPython.notebook.session.delete();
window.onbeforeunload = null
setTimeout(function() { window.close(); }, 1000);
```


    <IPython.core.display.Javascript object>



```python

```
